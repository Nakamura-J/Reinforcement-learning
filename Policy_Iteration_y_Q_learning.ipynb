{
  "nbformat": 4,
  "nbformat_minor": 0,
  "metadata": {
    "kernelspec": {
      "display_name": "Python 3",
      "name": "python3"
    },
    "language_info": {
      "name": "python"
    },
    "colab": {
      "provenance": []
    }
  },
  "cells": [
    {
      "cell_type": "code",
      "metadata": {
        "collapsed": true,
        "id": "jSuaEYod6dcH"
      },
      "source": [
        "import numpy as np"
      ],
      "execution_count": 1,
      "outputs": []
    },
    {
      "cell_type": "code",
      "metadata": {
        "collapsed": true,
        "id": "Kt1pGIIE6dcR"
      },
      "source": [
        "# Ejemplo - Construcción de grilla\n",
        "\n",
        "class Mapa:\n",
        "\n",
        "    def __init__(self,ancho,alto,inicio):\n",
        "        self.ancho = ancho\n",
        "        self.alto = alto\n",
        "        self.fila = inicio[0]\n",
        "        self.columna = inicio[1]\n",
        "\n",
        "    def conjunto(self,recompensas,acciones):\n",
        "        self.recompensas = recompensas # diccionario de posibles recompensas para cada estado (fila,columna) : r\n",
        "        self.acciones = acciones # diccionario de posibles acciones para cada estado (fila,columna) : ('U','D','L','R')\n",
        "\n",
        "    def fijar_estado(self,s):\n",
        "        self.fila = s[0]\n",
        "        self.columna = s[1]\n",
        "\n",
        "    def estado_actual(self):\n",
        "        return (self.fila,self.columna)\n",
        "\n",
        "    def es_final(self,s):\n",
        "        return s not in self.acciones\n",
        "\n",
        "    def mover(self,accion):\n",
        "        if accion in self.acciones[self.estado_actual()] :\n",
        "            if accion == 'U':\n",
        "                self.fila -= 1\n",
        "            elif accion == 'D':\n",
        "                self.fila += 1\n",
        "            elif accion == 'L':\n",
        "                self.columna -= 1\n",
        "            elif accion == 'R':\n",
        "                self.columna += 1\n",
        "        return self.recompensas.get(self.estado_actual(),0)\n",
        "\n",
        "    def deshacer(self,accion):\n",
        "        if accion in self.acciones[self.estado_actual()] :\n",
        "            if accion == 'U':\n",
        "                self.fila += 1\n",
        "            elif accion == 'D':\n",
        "                self.fila -= 1\n",
        "            elif accion == 'L':\n",
        "                self.columna += 1\n",
        "            elif accion == 'R':\n",
        "                self.columna -= 1\n",
        "        assert(self.estado_actual() in self.todos_estados())\n",
        "\n",
        "    def fin(self):\n",
        "        return self.estado_actual not in self.acciones\n",
        "\n",
        "    def todos_estados(self):\n",
        "        return set(list(self.acciones.keys()) + list(self.recompensas.keys()))"
      ],
      "execution_count": 2,
      "outputs": []
    },
    {
      "cell_type": "code",
      "metadata": {
        "collapsed": true,
        "id": "mkVqC0ca6dcV"
      },
      "source": [
        "# Ejemplo - Configuración del problema\n",
        "\n",
        "def mapa_con_costo(costo_paso = -0.1):\n",
        "    g = Mapa(4,3,(2,0)) # ancho de 4 celdas, alto de 3 celdas y posición inicial en (2,0)\n",
        "    recompensas = {(0,3) : 1, (1,3):-1}\n",
        "    acciones = {\n",
        "        (0,0) : ('D','R'),\n",
        "        (0,1) : ('L','R'),\n",
        "        (0,2) : ('L','R','D'),\n",
        "#        (0,3) : ('',),\n",
        "        (1,0) : ('U','D'),\n",
        "#        (1,1) : ('',),\n",
        "        (1,2) : ('U','D','R'),\n",
        "#        (1,3) : ('',),\n",
        "        (2,0) : ('U','R'),\n",
        "        (2,1) : ('L','R'),\n",
        "        (2,2) : ('U','L','R'),\n",
        "        (2,3) : ('L','U')\n",
        "        }\n",
        "    g.conjunto(recompensas,acciones)\n",
        "    recompensas = {}\n",
        "    for fila in range(g.alto):\n",
        "        for columna in range(g.ancho):\n",
        "            recompensas[(fila,columna)] = costo_paso\n",
        "    recompensas[(0,3)] = 1\n",
        "    recompensas[(1,3)] = -1\n",
        "    recompensas.pop((1,1),None)\n",
        "    g.conjunto(recompensas,g.acciones)\n",
        "    return g"
      ],
      "execution_count": 3,
      "outputs": []
    },
    {
      "cell_type": "code",
      "metadata": {
        "collapsed": true,
        "id": "DQmGuKnr6dcW"
      },
      "source": [
        "# Ejemplo - Mostrar valores\n",
        "def mostrar_valores(V,g):\n",
        "    for fila in range(g.alto):\n",
        "        print(20*\"-\")\n",
        "        for columna in range(g.ancho):\n",
        "            v = V.get((fila,columna),0)\n",
        "\n",
        "            #if (v >= 0) :\n",
        "            print(\" %.2f|\" % v, end='')\n",
        "            #else :\n",
        "             #   print \"%.2f|\"  % v,\n",
        "        print(\"\")\n",
        "\n",
        "def mostrar_politica(P,g) :\n",
        "    for fila in range(g.alto):\n",
        "        print(20*\"-\")\n",
        "        for columna in range(g.ancho):\n",
        "            a = P.get((fila,columna),'')\n",
        "            print(\" %s |\" % a, end='')\n",
        "        print(\"\")"
      ],
      "execution_count": 4,
      "outputs": []
    },
    {
      "cell_type": "code",
      "metadata": {
        "collapsed": true,
        "id": "Vleupjrz6dca"
      },
      "source": [
        "# Ejemplo - Policy Iteration (configuración)\n",
        "gamma = 0.9\n",
        "epsilon = 1e-3\n",
        "total_acciones = ('U','D','L','R')\n",
        "mapa = mapa_con_costo()\n",
        "estados = mapa.todos_estados()\n",
        "V = {}\n",
        "pi = {}\n",
        "for fila in range(mapa.alto):\n",
        "    for columna in range(mapa.ancho):\n",
        "        V[(fila,columna)] = 0.0\n",
        "\n",
        "for s in mapa.acciones.keys():  # Para todos los estados se inicializa una politica aleatoria\n",
        "    pi[s] = np.random.choice(total_acciones)"
      ],
      "execution_count": 5,
      "outputs": []
    },
    {
      "cell_type": "code",
      "metadata": {
        "id": "MQaVtBQA6dcb",
        "colab": {
          "base_uri": "https://localhost:8080/"
        },
        "outputId": "65640cd1-f717-43a3-9397-a60a6a5664dd"
      },
      "source": [
        "# Ejemplo - Policy Iteration\n",
        "repeticiones = 10\n",
        "iteraciones = 0\n",
        "while True:\n",
        "    iteraciones += 1\n",
        "# Evaluación de política\n",
        "    while True :\n",
        "        delta = 0\n",
        "        v_anterior = 0.0\n",
        "        for s in estados:\n",
        "            if s not in pi:\n",
        "                continue\n",
        "            mapa.fijar_estado(s)\n",
        "            v_anterior = V[s]\n",
        "            accion = pi[s]\n",
        "            r = mapa.mover(accion)\n",
        "            nuevo_estado = mapa.estado_actual()\n",
        "            V[s] = r + gamma * V[nuevo_estado]\n",
        "            delta = max(delta,abs(v_anterior - V[s]))\n",
        "        if delta < epsilon :\n",
        "            break\n",
        "# Mejora de politica\n",
        "    politica_estable = True\n",
        "    for s in estados:\n",
        "        if s not in pi:\n",
        "            continue\n",
        "        accion_anterior = pi[s]\n",
        "        max_val = float(\"-inf\")\n",
        "        for accion in mapa.acciones[s]:\n",
        "            mapa.fijar_estado(s)\n",
        "            r = mapa.mover(accion)\n",
        "            nuevo_estado = mapa.estado_actual()\n",
        "            val = r + gamma * V[nuevo_estado]\n",
        "            if val > max_val :\n",
        "                max_val = val\n",
        "                max_accion = accion\n",
        "        pi[s] = max_accion\n",
        "        if accion_anterior != pi[s] :\n",
        "            politica_estable = False\n",
        "    if politica_estable == True or iteraciones >= repeticiones:\n",
        "        mostrar_politica(pi,mapa)\n",
        "        break"
      ],
      "execution_count": 6,
      "outputs": [
        {
          "output_type": "stream",
          "name": "stdout",
          "text": [
            "--------------------\n",
            " R | R | R |  |\n",
            "--------------------\n",
            " U |  | U |  |\n",
            "--------------------\n",
            " U | R | U | L |\n"
          ]
        }
      ]
    },
    {
      "cell_type": "code",
      "metadata": {
        "id": "ktu1urIA6dcc",
        "colab": {
          "base_uri": "https://localhost:8080/"
        },
        "outputId": "60562a97-9a47-46c5-c65c-f6206eae38dc"
      },
      "source": [
        "# Ejemplo - Q-learning\n",
        "# OJO con exploración - explotación : este agente se estanca en un óptimo local\n",
        "repeticiones = 200\n",
        "inicio = (2,0)\n",
        "alpha = 0.8\n",
        "gamma = 0.9\n",
        "total_acciones = ('U','D','L','R')\n",
        "mapa = mapa_con_costo()\n",
        "estados = mapa.todos_estados()\n",
        "Q = {}\n",
        "pi = {}\n",
        "timeout = 100\n",
        "for s in estados:\n",
        "    for a in total_acciones:\n",
        "        Q[(s,a)] = 0.0\n",
        "\n",
        "s = inicio\n",
        "for n in range(repeticiones):\n",
        "    k = 0\n",
        "    mapa.fijar_estado(inicio)\n",
        "#    print(\"inicio\",inicio, mapa.es_final(inicio))\n",
        "    while not mapa.es_final(s) and k < timeout:\n",
        "#      print(\"episodio\",n,\"paso\",k)\n",
        "      s = mapa.estado_actual()\n",
        "      r = mapa.recompensas[s]\n",
        "      aux = 0\n",
        "      for accion_a_ejecutar in mapa.acciones[s]:\n",
        "\n",
        "        if Q[(s,accion_a_ejecutar)] >= aux:\n",
        "          aux = Q[(s,accion_a_ejecutar)]\n",
        "          a = accion_a_ejecutar\n",
        "      mayorQ = -float(\"inf\")\n",
        "      for nueva_accion in mapa.acciones[s]:\n",
        "        mapa.mover(nueva_accion)\n",
        "        sn = mapa.estado_actual()\n",
        "        if Q[(sn,nueva_accion)] > mayorQ:\n",
        "          mayorQ = Q[(sn,nueva_accion)]\n",
        "        mapa.deshacer(nueva_accion)\n",
        "      Q[(s,a)] += alpha*(r + gamma*mayorQ - Q[(s,a)])\n",
        "      mapa.mover(a)\n",
        "      pi[s] = a\n",
        "      k += 1\n",
        "mostrar_politica(pi,mapa)\n",
        "#print(Q)"
      ],
      "execution_count": 7,
      "outputs": [
        {
          "output_type": "stream",
          "name": "stdout",
          "text": [
            "--------------------\n",
            " D | L |  |  |\n",
            "--------------------\n",
            " D |  |  |  |\n",
            "--------------------\n",
            " D | L |  |  |\n"
          ]
        }
      ]
    }
  ]
}